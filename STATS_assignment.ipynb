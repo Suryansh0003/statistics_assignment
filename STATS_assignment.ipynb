{
 "cells": [
  {
   "cell_type": "markdown",
   "id": "45567d08-2edd-4630-8398-aed3f894b849",
   "metadata": {},
   "source": [
    "##  Statistics Assignment"
   ]
  },
  {
   "cell_type": "code",
   "execution_count": 12,
   "id": "87f3563e-4b7d-49e2-8dff-01daa57a4fe6",
   "metadata": {},
   "outputs": [],
   "source": [
    "import numpy as np\n",
    "import matplotlib.pyplot as plt\n",
    "import seaborn as sns\n",
    "import pandas as pd \n",
    "import scipy.stats as stat"
   ]
  },
  {
   "cell_type": "markdown",
   "id": "693f97eb-cd2b-47b2-b24b-e72253cfb19f",
   "metadata": {},
   "source": [
    "__Q1- Generate a list of 100 integers containing values between 90 to 130 and store it in the variable `int_list`.\n",
    "After generating the list, find the following:__\n",
    "\n",
    "  \n",
    "\n",
    "  (i) Write a Python function to calculate the mean of a given list of numbers.\n",
    "\n",
    "Create a function to find the median of a list of numbers.\n",
    "\n",
    "  \n",
    "\n",
    "  (ii) Develop a program to compute the mode of a list of integers.\n",
    "\n",
    "  \n",
    "\n",
    "  (iii) Implement a function to calculate the weighted mean of a list of values and their corresponding weights.\n",
    "\n",
    "  \n",
    "\n",
    "  (iv) Write a Python function to find the geometric mean of a list of positive numbers.\n",
    "\n",
    "  \n",
    "\n",
    "  (v) Create a program to calculate the harmonic mean of a list of values.\n",
    "\n",
    "  \n",
    "\n",
    "  (vi) Build a function to determine the midrange of a list of numbers (average of the minimum and maximum).\n",
    "\n",
    "  \n",
    "\n",
    "  (vii) Implement a Python program to find the trimmed mean of a list, excluding a certain percentage of\n",
    "outlier"
   ]
  },
  {
   "cell_type": "code",
   "execution_count": 6,
   "id": "effc035e-5ce1-47f4-9e65-81ae3f42a084",
   "metadata": {},
   "outputs": [
    {
     "name": "stdout",
     "output_type": "stream",
     "text": [
      " mean of the list is : 107.02\n",
      "median of the list is :  107.5\n"
     ]
    }
   ],
   "source": [
    "# (i) Write a Python function to calculate the mean of a given list of numbers.\n",
    "# Create a function to find the median of a list of numbers\n",
    "int_list=np.random.randint(90,130,100)\n",
    "def list_mean():\n",
    "    print(\" mean of the list is :\",np.mean(int_list))\n",
    "\n",
    "def list_median():\n",
    "    print(\"median of the list is : \",np.median(int_list))\n",
    "\n",
    "list_mean()\n",
    "list_median()"
   ]
  },
  {
   "cell_type": "code",
   "execution_count": 7,
   "id": "dbcebcd9-f3f5-45e4-a50d-ca87dab71495",
   "metadata": {},
   "outputs": [
    {
     "name": "stdout",
     "output_type": "stream",
     "text": [
      "mode of the list is : ModeResult(mode=96, count=7)\n"
     ]
    }
   ],
   "source": [
    "# (ii) Develop a program to compute the mode of a list of integers.\n",
    "def list_mode():\n",
    "    print(\"mode of the list is :\",stat.mode(int_list))\n",
    "\n",
    "list_mode()"
   ]
  },
  {
   "cell_type": "code",
   "execution_count": 8,
   "id": "0421df8a-ea17-47e8-bccc-59aace695b76",
   "metadata": {},
   "outputs": [
    {
     "data": {
      "text/plain": [
       "5.074509803921569"
      ]
     },
     "execution_count": 8,
     "metadata": {},
     "output_type": "execute_result"
    }
   ],
   "source": [
    "# (iii) Implement a function to calculate the weighted mean of a list of values and their corresponding weights.\n",
    "\n",
    "def weighted_mean(value,weight):\n",
    "\n",
    "    # step-1 check if both list len are same of not \n",
    "    if len(value) != len(weight):\n",
    "        raise ValueError(\"the lenght of list are must be same \")\n",
    "\n",
    "\n",
    "    #Step-2 caluclate the weighted sum\n",
    "    weighted_sum=sum(v*w for v,w in zip(value,weight))\n",
    "\n",
    "    #step-3 sum of weights\n",
    "    Sum_of_weight = sum(weight)\n",
    "\n",
    "    # Step-4 weighted_mean\n",
    "    weighted_mean=weighted_sum/Sum_of_weight\n",
    "\n",
    "\n",
    "    \n",
    "    return weighted_mean\n",
    "\n",
    "\n",
    "l1=[2,4,5,6,7]\n",
    "l2=[2.4,5.6,7.4,5.5,4.6]\n",
    "\n",
    "result=weighted_mean(l1,l2)\n",
    "result\n"
   ]
  },
  {
   "cell_type": "code",
   "execution_count": 9,
   "id": "3536cdc7-20c6-4919-bf1b-563d8f2f5727",
   "metadata": {},
   "outputs": [
    {
     "name": "stdout",
     "output_type": "stream",
     "text": [
      "gemotric mean is :  106.50501702544241\n"
     ]
    }
   ],
   "source": [
    "# (iv) Write a Python function to find the geometric mean of a list of positive numbers.\n",
    "import math \n",
    "from functools import reduce\n",
    "def gemotric_mean(values):\n",
    "    if len(values)==0:\n",
    "        return 0\n",
    "    # check number is positive or not\n",
    "    for value in values:\n",
    "        if value <=0:\n",
    "            raise ValueError(\"Values must be positive\")\n",
    "        # Step-1 Caluculate the product of all values\n",
    "    # product=reduce(lambda x,y: x*y ,values)\n",
    "    sumof_log=sum(math.log(x) for x in values)\n",
    "    n=len(values)\n",
    "\n",
    "    # step-2 caluclate geometric mean \n",
    "    geometric_mean = math.exp(sumof_log / len(values))\n",
    "\n",
    "    return geometric_mean\n",
    "\n",
    "result=gemotric_mean(int_list)\n",
    "print(\"gemotric mean is : \",result)\n",
    "    "
   ]
  },
  {
   "cell_type": "code",
   "execution_count": 10,
   "id": "4ebdc35c-0ba3-44bc-9cda-8c7b74258e12",
   "metadata": {},
   "outputs": [
    {
     "name": "stdout",
     "output_type": "stream",
     "text": [
      "Harmonic mean: 105.99787939674036\n"
     ]
    }
   ],
   "source": [
    "#(v) Create a program to calculate the harmonic mean of a list of values.\n",
    "def harmonic_mean(values):\n",
    "  \"\"\"Calculates the harmonic mean of a list of positive numbers.\n",
    "\n",
    "  Args:\n",
    "      values: A list of positive numbers.\n",
    "\n",
    "  Returns:\n",
    "      The harmonic mean of the numbers in the list, or None if the list is empty \n",
    "      or contains zero.\n",
    "\n",
    "  Raises:\n",
    "      ValueError: If any element in the list is non-positive.\n",
    "  \"\"\"\n",
    "\n",
    "  if not all(value > 0 for value in values):\n",
    "      raise ValueError(\"All elements in the list must be positive.\")\n",
    "\n",
    "  if len(values) == 0:\n",
    "      return None  # Handle empty list gracefully\n",
    "\n",
    "  # Step 1: Calculate the sum of the reciprocals of all values\n",
    "  reciprocal_sum = sum(1 / v for v in values)\n",
    "\n",
    "  # Step 2: Calculate the harmonic mean (avoid division by zero)\n",
    "  if reciprocal_sum > 0:\n",
    "      harmonic_mean = len(values) / reciprocal_sum\n",
    "  else:\n",
    "      harmonic_mean = None  # Handle case where all values are zero\n",
    "\n",
    "  return harmonic_mean\n",
    "\n",
    "# Example usage\n",
    "# int_list = [2, 4, 8]\n",
    "result = harmonic_mean(int_list)\n",
    "print(\"Harmonic mean:\", result)\n"
   ]
  },
  {
   "cell_type": "code",
   "execution_count": 11,
   "id": "7c261c2d-7b7e-40bd-8b40-5c1ed4962bd0",
   "metadata": {},
   "outputs": [
    {
     "name": "stdout",
     "output_type": "stream",
     "text": [
      "mid range is :  14.0\n"
     ]
    }
   ],
   "source": [
    "# (vi) Build a function to determine the midrange of a list of numbers (average of the minimum and maximum).\n",
    "\n",
    "def mid_range(values):\n",
    "    if values == 0:\n",
    "        return 0\n",
    "\n",
    "    min_val=np.min(values)\n",
    "    max_val=np.max(values)\n",
    "\n",
    "    #calculate the mid range \n",
    "    mid_ra=(min_val+max_val)/2\n",
    "    return mid_ra\n",
    "\n",
    "ra=mid_range([5,10,15,20,23])\n",
    "print(\"mid range is : \",ra)\n",
    "\n",
    "  \n",
    "  "
   ]
  },
  {
   "cell_type": "code",
   "execution_count": 12,
   "id": "81deb73c-5712-462e-b80a-6928caec5804",
   "metadata": {},
   "outputs": [
    {
     "name": "stdout",
     "output_type": "stream",
     "text": [
      "Trimmed data :  106.3875\n"
     ]
    }
   ],
   "source": [
    "# (vii) Implement a Python program to find the trimmed mean of a list,\n",
    "# excluding a certain percentage of outlier\n",
    "def  trimmed_mean(data,percentage):\n",
    "    if not 0<= percentage <=50:\n",
    "        raise ValueError(\"percentate must have betweeen 0 to 50 \")\n",
    "\n",
    "    sorted_data=np.sort(data)\n",
    "\n",
    "    #calculate the number of elemlemt to exclude from each tail\n",
    "    num_to_exclude=int(len(data) * percentage /100)\n",
    "\n",
    "\n",
    "    term_data=sorted_data[num_to_exclude: -num_to_exclude]\n",
    "    trimmed_mean_data=np.mean(term_data)\n",
    "    \n",
    "    return trimmed_mean_data\n",
    "\n",
    "\n",
    "per=10\n",
    "re=trimmed_mean(int_list,per)\n",
    "print(\"Trimmed data : \",re)\n",
    "\n",
    "    \n",
    "    \n",
    "\n"
   ]
  },
  {
   "cell_type": "markdown",
   "id": "5d891679-abfc-4684-84a8-95b4fe8ceffc",
   "metadata": {},
   "source": [
    "__ __\n",
    "\n",
    "__Q- 2. Generate a list of 500 integers containing values between 200 to 300 and store it in the variable `int_list2`.\n",
    "After generating the list, find the following:__\n",
    "\n",
    "\n",
    "  (i) Compare the given list of visualization for the given data:\n",
    "\n",
    "    \n",
    "\n",
    "    1. Frequency & Gaussian distribution\n",
    "\n",
    "    2. Frequency smoothened KDE plot\n",
    "\n",
    "    3. Gaussian distribution & smoothened KDE plot\n",
    "\n",
    "\n",
    "  (ii) Write a Python function to calculate the range of a given list of numbers.\n",
    "\n",
    "\n",
    "  (iii) Create a program to find the variance and standard deviation of a list of numbers.\n",
    "\n",
    "\n",
    "  (iv) Implement a function to compute the interquartile range (IQR) of a list of values.\n",
    "\n",
    "\n",
    "  (v) Build a program to calculate the coefficient of variation for a dataset.\n",
    "\n",
    "  \n",
    "\n",
    "  (vi) Write a Python function to find the mean absolute deviation (MAD) of a list of numbers.\n",
    "\n",
    "\n",
    "  (vii) Create a program to calculate the quartile deviation of a list of values.\n",
    "\n",
    "  \n",
    "\n",
    "  (viii) Implement a function to find the range-based coefficient of dispersion for a dataset."
   ]
  },
  {
   "cell_type": "code",
   "execution_count": 13,
   "id": "cd84da3f-a753-42a7-97c1-d64247b99523",
   "metadata": {},
   "outputs": [
    {
     "data": {
      "image/png": "[encoded data removed]",
      "text/plain": [
       "<Figure size 1400x600 with 2 Axes>"
      ]
     },
     "metadata": {},
     "output_type": "display_data"
    }
   ],
   "source": [
    "# (i) Compare the given list of visualization for the given data:\n",
    "\n",
    "# 1. Frequency & Gaussian distribution\n",
    "\n",
    "# 2. Frequency smoothened KDE plot\n",
    "\n",
    "# 3. Gaussian distribution & smoothened KDE plot\n",
    "\n",
    "intlist2=np.random.randint(200,301,500)\n",
    "plt.figure(figsize=(14,6))\n",
    "# frequency distribution \n",
    "plt.subplot(1,2,1)\n",
    "sns.histplot(intlist2,bins=30,color='skyblue')\n",
    "plt.title(' frequency distribution ')\n",
    "plt.xlabel('value')\n",
    "plt.ylabel('Frequency')\n",
    "\n",
    "#Normal distribution \n",
    "mu,sd=stat.norm.fit(intlist2)\n",
    "x=np.linspace(200,300,1000)\n",
    "gussion_pdf=stat.norm.pdf(x,mu,sd)\n",
    "plt.subplot(1,2,2)\n",
    "plt.plot(gussion_pdf,label='gussion distrubution',color='darkorange')\n",
    "plt.title('Gaussian Distribution')\n",
    "plt.xlabel('Value')\n",
    "plt.ylabel('Density')\n",
    "plt.legend()\n",
    "\n",
    "plt.tight_layout()\n",
    "plt.show()\n",
    "\n"
   ]
  },
  {
   "cell_type": "code",
   "execution_count": 14,
   "id": "f01a1284-3456-4830-b6a3-1a75895af648",
   "metadata": {},
   "outputs": [
    {
     "data": {
      "text/plain": [
       "<matplotlib.legend.Legend at 0x20dcff1dee0>"
      ]
     },
     "execution_count": 14,
     "metadata": {},
     "output_type": "execute_result"
    },
    {
     "data": {
      "image/png": "[encoded data removed]",
      "text/plain": [
       "<Figure size 1400x600 with 2 Axes>"
      ]
     },
     "metadata": {},
     "output_type": "display_data"
    }
   ],
   "source": [
    "# Frequency smoothened KDE plot\n",
    "\n",
    "plt.figure(figsize=(14,6))\n",
    "plt.subplot(1,2,1)\n",
    "sns.histplot(intlist2,kde=True,bins=30,color='black',edgecolor='black')\n",
    "plt.title('Frequency Smoothened KDE Plot')\n",
    "plt.xlabel('Value')\n",
    "plt.ylabel('Density')\n",
    "\n",
    "\n",
    "plt.subplot(1, 2, 2)\n",
    "\n",
    "sns.kdeplot(intlist2, label='KDE Plot', color='blue')\n",
    "# Gaussian distribution\n",
    "\n",
    "plt.plot(x, gussion_pdf, label='Gaussian Distribution', color='darkorange')\n",
    "plt.title('Gaussian Distribution & Smoothened KDE Plot')\n",
    "plt.xlabel('Value')\n",
    "plt.ylabel('Density')\n",
    "plt.legend()\n"
   ]
  },
  {
   "cell_type": "code",
   "execution_count": 15,
   "id": "f5244347-9de3-4b8b-9ab4-2f180ab22488",
   "metadata": {},
   "outputs": [
    {
     "data": {
      "text/plain": [
       "99"
      ]
     },
     "execution_count": 15,
     "metadata": {},
     "output_type": "execute_result"
    }
   ],
   "source": [
    "  # (ii) Write a Python function to calculate the range of a given list of numbers\n",
    "\n",
    "lis=np.random.randint(200,300,500)\n",
    "lis[:10]\n",
    "\n",
    "# function to calclate the range\n",
    "def cal_range(num_list):\n",
    "    minv=np.min(num_list)\n",
    "    maxv=np.max(num_list)\n",
    "    return maxv-minv\n",
    "\n",
    "cal_range(lis)\n",
    "    "
   ]
  },
  {
   "cell_type": "code",
   "execution_count": 16,
   "id": "af692e04-fa55-40ea-af3c-3f39688b6196",
   "metadata": {},
   "outputs": [
    {
     "name": "stdout",
     "output_type": "stream",
     "text": [
      "Variance : 894.175404\n",
      "standard daviation: 29.90276582525436\n"
     ]
    }
   ],
   "source": [
    "# iii) Create a program to find the variance and standard deviation of a list of numbers.\n",
    "print(\"Variance :\",np.var(intlist2))\n",
    "print(\"standard daviation:\",np.std(intlist2))"
   ]
  },
  {
   "cell_type": "code",
   "execution_count": 17,
   "id": "d8910b4b-6fa8-429c-a59c-cbbadc214919",
   "metadata": {},
   "outputs": [
    {
     "name": "stdout",
     "output_type": "stream",
     "text": [
      "IQR : 54.25\n"
     ]
    }
   ],
   "source": [
    "#iv) Implement a function to compute the interquartile range (IQR) of a list of values.\n",
    "\n",
    "q1,q3=np.percentile(intlist2,[25,75])\n",
    "IQR=q3-q1\n",
    "print(\"IQR :\",IQR)\n",
    "\n",
    "\n",
    "\n"
   ]
  },
  {
   "cell_type": "code",
   "execution_count": 18,
   "id": "c3311150-59ba-4f2e-8349-d3686ed14e24",
   "metadata": {},
   "outputs": [
    {
     "name": "stdout",
     "output_type": "stream",
     "text": [
      "Coefficient of Variation: 11.99%\n"
     ]
    }
   ],
   "source": [
    " # Build a program to calculate the coefficient of variation for a dataset.\n",
    "\n",
    "# step 1 mean and std\n",
    "mean,sd=np.mean(intlist2), np.std(intlist2)\n",
    "cv=(sd/mean)*100\n",
    "print(f\"Coefficient of Variation: {cv:.2f}%\")"
   ]
  },
  {
   "cell_type": "code",
   "execution_count": 19,
   "id": "3a2d19f7-ffe5-402b-b2e1-903e78b0f5d9",
   "metadata": {},
   "outputs": [
    {
     "name": "stdout",
     "output_type": "stream",
     "text": [
      "qurtile deviation is :  27.125\n"
     ]
    }
   ],
   "source": [
    "  # (vii) Create a program to calculate the quartile deviation of a list of values.\n",
    "\n",
    "# step-1-> sort the data\n",
    "sorted_list=np.sort(intlist2)\n",
    "q1=np.percentile(intlist2,25)\n",
    "q3=np.percentile(intlist2,75)\n",
    "\n",
    "iqr=q3-q1\n",
    "qd=iqr/2\n",
    "print(\"qurtile deviation is : \",qd)"
   ]
  },
  {
   "cell_type": "code",
   "execution_count": 20,
   "id": "e424a83c-6c1d-4cd0-825d-54a4581d4f00",
   "metadata": {},
   "outputs": [
    {
     "name": "stdout",
     "output_type": "stream",
     "text": [
      "absulate dev : 26.32\n"
     ]
    }
   ],
   "source": [
    "# Write a Python function to find the mean absolute deviation (MAD) of a list of numbers.\n",
    "\n",
    "# step 1- calculate the mean \n",
    "mean=np.mean(intlist2)\n",
    "absulate_dev=[abs(x-mean)for x in intlist2]\n",
    "ad=sum(absulate_dev)/len(intlist2)\n",
    "print(f\"absulate dev : {ad:.2f}\" )"
   ]
  },
  {
   "cell_type": "code",
   "execution_count": 21,
   "id": "37f960c4-77c6-456a-b338-edcc628f2bca",
   "metadata": {},
   "outputs": [
    {
     "name": "stdout",
     "output_type": "stream",
     "text": [
      "cofficiant : 0.40\n"
     ]
    }
   ],
   "source": [
    "# ) Implement a function to find the range-based coefficient of dispersion for a dataset.\n",
    "Range=max(intlist2) - min(intlist2) \n",
    "mean=np.mean(intlist2)\n",
    "cofficiant=Range/mean\n",
    "print(f\"cofficiant : {cofficiant:.2f}\")"
   ]
  },
  {
   "cell_type": "markdown",
   "id": "5ab2d6e1-c592-4fba-9873-208dc15aa76f",
   "metadata": {},
   "source": [
    "__ __\n",
    "__Q-3. Write a Python class representing a discrete random variable with methods to calculate its expected value and variance.__"
   ]
  },
  {
   "cell_type": "code",
   "execution_count": 22,
   "id": "d165e6fd-8be2-422e-a832-ac296a386f22",
   "metadata": {},
   "outputs": [
    {
     "name": "stdout",
     "output_type": "stream",
     "text": [
      "Expected value: 3.2\n",
      "Variance: 1.56\n"
     ]
    }
   ],
   "source": [
    "class discrete:\n",
    "    def __init__(self,outcomes,probailty):\n",
    "        if len(outcomes) != len(probailty):\n",
    "            raise ValueError(\"the length of probabilty and outcome is must be same \")\n",
    "        self.outcomes=outcomes\n",
    "        self.probailty=probailty\n",
    "\n",
    "    def expected_value(self):\n",
    "        return sum(outcome*probabilty for outcome, probabilty in zip(self.outcomes,self.probailty))\n",
    "\n",
    "    def variance(self):\n",
    "        expected_val=self.expected_value()\n",
    "        return sum( (outcome-expected_val)**2 *probabilty for outcome ,probabilty in zip(self.outcomes,self.probailty))\n",
    "\n",
    "outcomes = [1, 2, 3, 4, 5]\n",
    "probabilities = [0.1, 0.2, 0.3, 0.2, 0.2]\n",
    "\n",
    "random_variable = discrete(outcomes, probabilities)\n",
    "print(\"Expected value:\", random_variable.expected_value())\n",
    "print(\"Variance:\", random_variable.variance())"
   ]
  },
  {
   "cell_type": "markdown",
   "id": "d6cc45a4-db42-4b46-9947-c8d0cde3d072",
   "metadata": {},
   "source": [
    "__ __\n",
    "__Q-4 Implement a program to simulate the rolling of a fair six-sided die and calculate the expected value and variance of the outcomes.__"
   ]
  },
  {
   "cell_type": "code",
   "execution_count": 23,
   "id": "f26811b8-8abb-45d5-b5c5-c9fd4abc2866",
   "metadata": {},
   "outputs": [],
   "source": [
    "outcomes=[]\n",
    "num_of_rolls=1000\n",
    "dice=np.random.randint(1,7,num_of_rolls)\n",
    "for i in dice:\n",
    "    outcomes.append(i)"
   ]
  },
  {
   "cell_type": "code",
   "execution_count": 24,
   "id": "0cfe9098-3283-4f2e-a23f-1275947a0860",
   "metadata": {},
   "outputs": [],
   "source": [
    "expected_val=sum(outcomes)/num_of_rolls"
   ]
  },
  {
   "cell_type": "code",
   "execution_count": 25,
   "id": "de1466cc-f894-4aa7-b010-5ad1cdbf70ca",
   "metadata": {},
   "outputs": [
    {
     "name": "stdout",
     "output_type": "stream",
     "text": [
      "expected value:  3.507\n",
      "variance :  3.065951\n"
     ]
    }
   ],
   "source": [
    "square_outcomes=  [x**2 for x in outcomes]\n",
    "expected_val_squared=sum(square_outcomes)/num_of_rolls\n",
    "variance=expected_val_squared-(expected_val**2)\n",
    "print(\"expected value: \",expected_val )\n",
    "print(\"variance : \",variance)"
   ]
  },
  {
   "cell_type": "markdown",
   "id": "c54fa972-1408-4359-8d9e-579471e383d2",
   "metadata": {},
   "source": [
    "__ __\n",
    "__5. Create a Python function to generate random samples from a given probability distribution (e.g.,\n",
    "binomial, Poisson) and calculate their mean and variance.__"
   ]
  },
  {
   "cell_type": "code",
   "execution_count": 34,
   "id": "ac0f2a8c-a281-4f25-bf36-817020f27418",
   "metadata": {},
   "outputs": [
    {
     "name": "stdout",
     "output_type": "stream",
     "text": [
      "binomial_sample- [ 5  5  4  7  5  4  7  6  5  7  5  5  7  2  6  5  4  4  3  6  5  6  4  3\n",
      "  3  5  6  5  6  4  3  6  7  3  5  4  8  5  5  7  7  3  7  5  5  3  5  3\n",
      "  5  7  7  4  2  4  5  4  6  6  5  5  6  5  6  4  3  6  4  6  6  6  2  5\n",
      "  5  4  3  5  4  3  3  8  4  4  2  3  4  4  4  6  5  6  3  9  4  5  5  6\n",
      "  3  5  5  4  5  5  6  5  4  5  8  5  5  7  4  8  5  4  2  6  5  7  4  4\n",
      "  7  8  5  4  7  4  5  6  3  5  3  3  7  3  5  7  7  5  4  4  6  6  5  4\n",
      "  9  5  3  2  4  8  8  6  5  6  5  6  2  4  6  4  5  5  9  5  5  3  4  2\n",
      "  5  6  7  7  5  5  7  5  4  3  5  3  9  5  5  3  6  4  4  5  6  5  4  1\n",
      "  4  3  4  3  4  5  5  7  6  3  8  3  6  4  4  4  6  5  4  3  2  5  4  4\n",
      "  3  5  3  8  7  4  5  4  4  4  6  5  8  5  5  4  2  4  8  7  2  3  7  2\n",
      "  7  5  5  4  6  4  5  4  2  2  7  4  7  6  6  7  4  4  7  5  4  5  4  5\n",
      "  6  6  4  7  4  2  2  5  6  5  6  4  9  9  5  7  4  5  4  5  6  5  5  6\n",
      "  3  6  5  5  5  5  4  5  5  6  6  5  5  5  6  5  6  8  4  4  5  5  6  3\n",
      "  5  5  5  1  4  6  5  4  5  7  7  6  3  6  5  5  7  4  1  7  4  6  3  4\n",
      "  6  2  5  4  3  5  6  4  2  4  4  8  5  5  5  6  5  3  3  6  5  6  5  6\n",
      "  4  5  5  8  4  4  4  8  4  4  4  7  5  5  2  3  4  6  5  6  4  5  6  5\n",
      "  4  4  5  3  4  4  5  6  8  5  3  4  5  5  6  7  3  5  5  3  5  8  5  6\n",
      "  4  4  5  6  3  6  8  7  2  6  6  6  5  6  5  4  7  4  5  2  7  7  5  5\n",
      "  7  2  6  3  3  7  3  4  5  8  5  4  2  4  3  6  5  6  4  7  6  7  6  4\n",
      "  4  1  6  7  6  5  7  5  6  3  6  8  3  6  5  2  6  7  5  5  8  4  5  7\n",
      "  6  5  6  8  3  6  3  3  7  5  5  5  7  5  5  3  4  4  5  4  5  3  4  4\n",
      "  5  7  3  5  5  5  5  5  2  2  5  7  4  5  6  5  7  4  4  4  6  4  6  8\n",
      "  3  7  3  3  3  6  4  6  8  6  5  1  3  6  6  7  5  4  4  6  5  4  4  7\n",
      "  6  4  2  5  4  5  5  7  7  4  7  5  4  5  4  7  5  7  3  2  6  6  6  5\n",
      "  3  6  5  6  5  4  7  3  5  7  0  2  6  6  4  4  3  7  6  2  5  3  3  8\n",
      "  5  4  7  4  5  8  5  4  8  3  6  7  4  3  5  4  8  5  4  4  6  8  6  3\n",
      "  4  5  6  3  4  4  5  3  4  5  6  7  4  4  4  5  4  8  6  2  5  6  6  6\n",
      "  4  4  4  6  7  5  5  5  7  3  5  5  7  5  5  5  4  6  2  7  6  3  2  4\n",
      "  7  5  3  6  4  4  4  4  3  3  8  6  5  7  5  7  6  5  4  5  2  5  7  5\n",
      "  4  6  4  3  6  6  5  4  3  5  4  6  4  3  3  2  6  3  6  5  7  5  7  7\n",
      "  5  5  4  7  3  6  3  7  4  4  4  5  3  5  4  3  6  5  7  5  5  6  4  6\n",
      "  5  4  4  7  6  4  4  7  4  9  4  6  1  5  7  5  2  5  4  5  7  4  2  7\n",
      "  4  4  5  4  5  6  9  6  5  5  5  5  8  4  6  5  5  6  6  5  5  8  6  4\n",
      "  4  6  6  4  3  6  6  6  5  6  6  4  2  5  9  5  3  7  5  5  6  6  3  4\n",
      "  5  5  3  3 10  6  6  7  6  4  3  6  8  4  6  5  5  8  5  6  2  8  5  7\n",
      "  7  4  5  6  8  4  5  5  7  6  8  7  4  6  6  7  5  6  3  4  4  8  5  5\n",
      "  4  3  4  1  5  3  6  8  6  6  3  5  5  4  2  3  6  4  3  6  7  5  3  6\n",
      "  7  4  6  6  3  5  6  4  7  5  4  3  5  6  6  4  4  6  4  4  5  3  3  4\n",
      "  2  3  5  3  4  6  8  3  9  5  6  4  7  6  6  4  7  6  5  6  6  3  5  4\n",
      "  3  3  4  4  6  5  5  6  4  3  4  4  6  7  6  3  4  5  6  4  3  8  3  4\n",
      "  5  4  7  8  4  3  5  6  2  3  6  5  5  6  5  1  2  3  8  7  6  5  7  9\n",
      "  4  5  4  7  5  4  5  6  7  5  5  7  4  4  3  6] ,\n",
      " bionmial mean - mean 4.959 , \n",
      " binomial variance : 2.4353189999999993\n",
      "________________________________________________________________________________________\n",
      "\n",
      "\n",
      "poisson_sample- [ 4  6  3  4  2  5  7  1  7  4  2  4  1  3  4  3  6  4  6  4  4  2  4  4\n",
      "  5  3  3  3  2  1  2  2  4  3  4  4  5  5  6  8  3  6  3  4  3  6  3  4\n",
      "  8  6  1  3  4  4  5  1  4  2  2  2  5  3  2  1  3  4  2  4  1  1  3  4\n",
      "  2  4  2  6  2  5  5  3  6  3  4  3  0  4  0  2  4  2  4  4  4  6  7  5\n",
      "  2  5  3  1  1  3  2  4  5  5  5  5  2  2  6  3  9  2  4  5  4  0  2  3\n",
      "  3  5  2  3  0  9  6  5  4  4  4  3  5  5  7  1  4  4  4  6  1  5  9  4\n",
      "  2  3  5 10  2  6  2  1  3  3  5  5  4  1  5  6  3  6  2  5  2  2  7  1\n",
      "  2  3  6  3  5  4  2  2  4  4  6  3  5  3  2  3  2  4  1  4  6  4  1  8\n",
      "  4  4  2  4  1  4  5  8  3  2  1  6  6  2  4  4  2  3  2  5  6  4  4  0\n",
      "  4  2  7  5  4  4  5  5  4  3  4  4  2  4  3  5  0  5  3  3  8  2  2  1\n",
      "  3  5  7  3  4  6  5  7  2  2  5  1  1  3  3  0  2  7  3  4  2  4  4  4\n",
      "  3  7  2  4  4  4  4  4  4  2  3  1  1  5  4  4  4  6  1  3  5  4  4  3\n",
      "  2  3  6  1  4  7  5  4  8  4  2  6  3  2  7  6  8  2  4  2  5  2  3  4\n",
      "  6  1  7  1  4  1  2  4  5  6  3  5  5  8  2  3  4  6  6  3  5  2  6  4\n",
      "  3  3  3  5  2  4  1  6  6  5  2  7  5  1  3  3  1  2  6  5  5  6  4  6\n",
      "  6  5  1  5  5  6  3  2  2  4  6  7  1  6  2  1  5  5  3  4  1  4  3  6\n",
      "  5  5  6  4  6  6  1  5  4  3  0  6  4  5  3  1  6  5  1  3  1  5  3  5\n",
      "  2  5  1  1  9  1  1  5  2  4  2  0  6  7  5  6  2  2  4  9  3  6  7  7\n",
      "  1  7  2  5  6  7  5  6  6  4  1  2  4  1  3  4  4  2  4  5  3  5  4  6\n",
      "  4  2  2  9  1  4  6  3  2  4  1  2  4  0  3  6  5  4  1  8  1  3  2  6\n",
      "  5  1  4  3  4  5  6  5  5  2  2  3  0  3  6  3  6  7  4  3  3  2  3  4\n",
      "  4  5  1  5  5  3  5  2  2  3  2  3  3  2  1  7  1  2  2  1  4  5  5  2\n",
      "  4  3  3  1  4  2  5  4  9  2  3  2  3  3  6  7  5  3  2  7  2  2  0  2\n",
      "  3  6  6  2  4  5  4  6  4  0  8  2  1  2  8  2  4  6  2  8  7  5  3  2\n",
      "  5  8  2  6  5  4  2  7  5  6  2  6  4  5  4  1  8  9  0  5  2  4  5  2\n",
      "  4  3  5  1  2  5  6  3  2  7  8  4  5  3  1  6  2  3  2  1  3  4  3  3\n",
      "  4  3  1  2  1  2  5  4  6  4  5  7  6  2  0  2  4  4  2  1  5  5  2  6\n",
      "  4  5  7  7  1  6  5  4  3  2  4  8  5  4  1  2  3  4  5  2  3  1  3  3\n",
      "  6  9  4  3  3  2  3  4  5  2  4  5  7  4  4  2  4  3  4  1  2  5  6  2\n",
      "  8  3  0  3  6  1  4  7  2  1  4  3  7  5  3  5  3  2  5  4  1  5  4  3\n",
      "  8  6  5  5  4  4  2  1  1  6  6  5  3  3  4  9  3  1  5  5  9  4  5  6\n",
      "  3  2  3  4  3  1  3  3  5  7  6  6  4  3  6  3  4  2  5  5  5  2  3  2\n",
      "  4  2  3  2  2  1  5  2  7  2  2  2  2  8  2  8  6  4  7  5  6  4  4  3\n",
      "  3  3  1  3  2  2  4  2  2  5  6  1  2  6  3  3  3  3  2  5  6  8  3  2\n",
      "  3  3  1  7  7  3  4  4  6  6  5  9  3  1  8  5  1  9  1  7 11  4  3  2\n",
      "  4  6  7  6  9  5  0  8  4  4  5  1  3  3  3  4  9  7  6  2  8  6  6  5\n",
      "  3  7  2  2  4  4  2  7  2  4  3  5  6  0  4  4  4  1  7  4  2  3  3  5\n",
      "  5  4  5  4  4  6  2  2  5  0  6  3  3  4  1  5  4  6  2 11  6  6  3  4\n",
      "  3  3  2  6  6  5  5  4  5  2  3  1  8  3  2  2  4  5  5  3  9  2  8  1\n",
      "  1  4  4  5  6  5  3  5  1  3  1  5  4  5  3  3  5  3  9  5  7  4  6  3\n",
      "  3  2  6  1  3  7  4  3  3  3  1  2  3  4  3  7  7  3  3  7  3  1  4  2\n",
      "  5  4  4  3  4  9  1  3  2  9  9  1  3  4  6  2] ,\n",
      " poisson mean -  3.862 , \n",
      " poisson variance : 4.0569560000000005\n"
     ]
    }
   ],
   "source": [
    "def generate_samples_stats(distribution,parms,size=1000):\n",
    "    if distribution=='binomial':\n",
    "        n=parms.get('n')\n",
    "        p=parms.get('p')\n",
    "        if n is None or p is None:\n",
    "            raise ValueError(\"in bionomial dist n and p parameter must \")\n",
    "        samples=np.random.binomial(n,p,size=size)\n",
    "\n",
    "    elif distribution=='poisson':\n",
    "        lambda_=parms.get('lambda')\n",
    "        if lambda_ is None:\n",
    "            raise ValueError(\"for possion distrubuion parameter is must\")\n",
    "\n",
    "        samples=np.random.poisson(lambda_,size=size)\n",
    "    else:\n",
    "        raise ValueError(\"Unsupported disturbation \")\n",
    "\n",
    "    mean =np.mean(samples)\n",
    "    variance=np.var(samples)\n",
    "\n",
    "    return samples ,mean,variance\n",
    "\n",
    "binomial_perms={'n':10,'p':0.5}\n",
    "\n",
    "bio_sample,bio_mean,bio_var=generate_samples_stats('binomial',binomial_perms)\n",
    "print(f\"binomial_sample- {bio_sample} ,\\n bionmial mean - mean {bio_mean} , \\n binomial variance : {bio_var}\")\n",
    "print(\"________________________________________________________________________________________\")\n",
    "print('\\n')\n",
    "poisson_perms={'lambda':4}\n",
    "poi_sample,poi_mean,poi_var=generate_samples_stats('poisson',poisson_perms)\n",
    "print(f\"poisson_sample- {poi_sample} ,\\n poisson mean -  {poi_mean} , \\n poisson variance : {poi_var}\")\n",
    "\n",
    "\n",
    "\n",
    "\n",
    "    "
   ]
  },
  {
   "cell_type": "markdown",
   "id": "7a3f9556-2ed9-4727-a41b-491f94d72587",
   "metadata": {},
   "source": [
    "__ __\n",
    "__6. Write a Python script to generate random numbers from a Gaussian (normal) distribution and compute\n",
    "the mean, variance, and standard deviation of the samples.__"
   ]
  },
  {
   "cell_type": "code",
   "execution_count": 45,
   "id": "aff3c784-fc84-4ab8-841e-3ded9b0a9a0a",
   "metadata": {},
   "outputs": [
    {
     "name": "stdout",
     "output_type": "stream",
     "text": [
      "mean : 50.11852779342211\n",
      "Standard davaition  : 9.970591923362896\n",
      "variance: 99.4127033022294\n"
     ]
    }
   ],
   "source": [
    "norm=np.random.normal(loc=50,scale=10,size=1000)\n",
    "m,s,v=norm.mean() ,norm.std(),norm.var()\n",
    "print(\"\")\n",
    "print(f\"mean : {m}\")\n",
    "print(f\"Standard davaition  : {s}\")\n",
    "print(f\"variance: {v}\")"
   ]
  },
  {
   "cell_type": "markdown",
   "id": "b6da8668-8f00-4952-ace5-d8dcf9696759",
   "metadata": {},
   "source": [
    "__ __ \n",
    "__7. Use seaborn library to load •tips- dataset. Find the following from the dataset for the columns -total _ bills\n",
    "and s tips:__\n",
    "\n",
    "(i) Write a Python function that calculates their skewness.\n",
    "\n",
    "(ii) Create a program that determines whether the columns exhibit positive skewness, negative skewness, or is\n",
    "approximately symmetric.\n",
    "\n",
    "(iii) Write a function that calculates the covariance between two columns.\n",
    "\n",
    "(iv) Implement a Python program that calculates the Pearson correlation coefficient between two columns\n",
    "\n",
    "\n",
    "(v) Write a script to visualize the correlation between two specific columns in a Pandas DataFrame using\n",
    "scatter plots."
   ]
  },
  {
   "cell_type": "code",
   "execution_count": 59,
   "id": "be5d5cd2-5725-4a23-8215-482fa1c0cb77",
   "metadata": {},
   "outputs": [
    {
     "name": "stdout",
     "output_type": "stream",
     "text": [
      "total_bill skewness : 1.1332130376158205\n",
      "tip skwness : 1.4654510370979401\n"
     ]
    }
   ],
   "source": [
    "# (i) Write a Python function that calculates their skewness.\n",
    "\n",
    "df=sns.load_dataset('tips')\n",
    "def skweness(data):\n",
    "    skewness=data.skew()\n",
    "    return skewness\n",
    "\n",
    "\n",
    "total_bill_skew=skweness(df['total_bill'])\n",
    "tip_skew=skweness(df['tip'])\n",
    "\n",
    "print(f\"total_bill skewness : {total_bill_skew}\")\n",
    "print(f\"tip skwness : {tip_skew}\")"
   ]
  },
  {
   "cell_type": "code",
   "execution_count": 71,
   "id": "a917b2d9-e513-40e7-bb57-8a5533454225",
   "metadata": {},
   "outputs": [
    {
     "name": "stdout",
     "output_type": "stream",
     "text": [
      "total_bill : positive skewness\n",
      "tip: positive skewness\n"
     ]
    }
   ],
   "source": [
    "# (ii) Create a program that determines whether the columns exhibit positive skewness, negative skewness, or is\n",
    "# # approximately symmetric.\n",
    "total_bill_col=df['total_bill']\n",
    "tip_col=df['tip']\n",
    "\n",
    "total_bill_skew=total_bill_col.skew()\n",
    "tip_skew=tip_col.skew()\n",
    "\n",
    "def interpt_skew(skewness):\n",
    "    if skewness <0:\n",
    "        return \"negative skewness\"\n",
    "    elif skewness >0:\n",
    "        return \"positive skewness\"\n",
    "    else:\n",
    "            return \"approxmatily symatric\"\n",
    "\n",
    "\n",
    "total_bill_s=interpt_skew(total_bill_skew)\n",
    "tip_s=interpt_skew(tip_skew)\n",
    "print(f\"total_bill : {total_bill_s}\")\n",
    "print(f\"tip: {tip_s}\")\n",
    "\n",
    "\n",
    "\n"
   ]
  },
  {
   "cell_type": "code",
   "execution_count": 114,
   "id": "210379e7-ba88-4805-8043-760fb942db84",
   "metadata": {},
   "outputs": [
    {
     "name": "stdout",
     "output_type": "stream",
     "text": [
      "the covariance of between tip and total_bill: 8.3235\n"
     ]
    }
   ],
   "source": [
    "# Write a function that calculates the covariance between two column\n",
    "def calculate_cov():\n",
    "    tips_data=df[['tip','total_bill']]\n",
    "    covariance_matrix=np.cov(tips_data['tip'],tips_data['total_bill'])\n",
    "    covariance=covariance_matrix[0,1]\n",
    "    return covariance\n",
    "    \n",
    "cov=calculate_cov()\n",
    "print(f\"the covariance of between tip and total_bill: {cov:.4f}\")\n",
    "\n"
   ]
  },
  {
   "cell_type": "code",
   "execution_count": 126,
   "id": "b3294b01-9925-44c2-ae6c-c37adb0332c0",
   "metadata": {},
   "outputs": [
    {
     "name": "stdout",
     "output_type": "stream",
     "text": [
      "the pearson corelation  of between tip and total_bill: 0.6757\n"
     ]
    }
   ],
   "source": [
    "from scipy.stats import pearsonr\n",
    "# (iv) Implement a Python program that calculates the Pearson correlation coefficient between two columns.\n",
    "def corelation_():\n",
    "    tips_data=df[['tip','total_bill']]\n",
    "    corelation,_=pearsonr(tips_data['tip'],tips_data['total_bill'])\n",
    " \n",
    "    return corelation\n",
    "    \n",
    "cor=corelation_()\n",
    "print(f\"the pearson corelation  of between tip and total_bill: {cor:.4f}\")\n",
    "\n"
   ]
  },
  {
   "cell_type": "code",
   "execution_count": 137,
   "id": "a122cbfa-9ac5-4994-b6fc-60e9a9e95c7b",
   "metadata": {},
   "outputs": [
    {
     "data": {
      "image/png": "[encoded data removed]",
      "text/plain": [
       "<Figure size 1000x600 with 1 Axes>"
      ]
     },
     "metadata": {},
     "output_type": "display_data"
    }
   ],
   "source": [
    "# (v) Write a script to visualize the correlation between two specific columns in a Pandas DataFrame using\n",
    "# scatter plots.\n",
    "\n",
    "plt.figure(figsize=(10,6))\n",
    "sns.scatterplot(data=df,x='total_bill',y='tip')\n",
    "plt.title(\"scatter plot of total_bill and tip corelation \")\n",
    "\n",
    "plt.ylabel('tip')\n",
    "plt.show()"
   ]
  },
  {
   "cell_type": "markdown",
   "id": "e2ad4335-3f79-4a4e-b0f7-3cc9791d9268",
   "metadata": {},
   "source": [
    "__ __\n",
    "__Write a Python function to calculate the probability density function (PDF) of a continuous random\n",
    "variable for a given normal distribution\n",
    ".__"
   ]
  },
  {
   "cell_type": "code",
   "execution_count": 152,
   "id": "800a2363-5312-4933-8b8b-4d0c7eb98a0d",
   "metadata": {},
   "outputs": [
    {
     "data": {
      "image/png": "[encoded data removed]",
      "text/plain": [
       "<Figure size 1000x600 with 1 Axes>"
      ]
     },
     "metadata": {},
     "output_type": "display_data"
    }
   ],
   "source": [
    "from scipy.stats import norm\n",
    "def PDF_cal(x,m=0,std=1):\n",
    "    pdf_value=norm.pdf(x,loc=m,scale=std)\n",
    "    return pdf_value\n",
    "\n",
    "\n",
    "x=np.linspace(-10,10,1000)\n",
    "mean=0\n",
    "std_dev=1\n",
    "pdfcal=PDF_cal(x,mean,std_dev)\n",
    "\n",
    "plt.figure(figsize=(10,6))\n",
    "plt.plot(x,pdfcal,label=f'N({mean}, {std_dev**2})')\n",
    "plt.xlabel(\"X\")\n",
    "plt.ylabel('PDF')\n",
    "plt.grid()\n",
    "plt.legend()\n",
    "plt.show()\n"
   ]
  },
  {
   "cell_type": "markdown",
   "id": "689c2187-dde0-422e-be2d-82d2dd13b668",
   "metadata": {},
   "source": [
    "__ __\n",
    "__9. Create a program to calculate the cumulative distribution function (CDF) of exponential distribution.__"
   ]
  },
  {
   "cell_type": "code",
   "execution_count": 174,
   "id": "cace10c8-830c-4d35-bbb1-587d023f2293",
   "metadata": {},
   "outputs": [
    {
     "data": {
      "image/png": "[encoded data removed]",
      "text/plain": [
       "<Figure size 600x400 with 1 Axes>"
      ]
     },
     "metadata": {},
     "output_type": "display_data"
    }
   ],
   "source": [
    "from scipy.stats import expon\n",
    "\n",
    "def exponan_cdf(x,lambda_):\n",
    "    return expon.cdf(x,scale=1/lambda_)\n",
    "\n",
    "#Example usage\n",
    "x=np.linspace(0,5,1000)\n",
    "lambda_=0.5\n",
    "cdf_value=exponan_cdf(x,lambda_)    \n",
    "\n",
    "plt.figure(figsize=(6,4))\n",
    "plt.plot(x,cdf_value,label=f\"CDF of exponential distribution : lambda={lambda_}\")\n",
    "plt.xlabel('X')\n",
    "plt.ylabel('CDF')\n",
    "plt.legend()\n",
    "plt.grid()\n",
    "plt.show()\n",
    "\n"
   ]
  },
  {
   "cell_type": "markdown",
   "id": "16de9bba-530c-4569-b54c-103dba498f22",
   "metadata": {},
   "source": [
    "__ __\n",
    "__10. Write a Python function to calculate the probability mass function (PMF) of Poisson distribution.__"
   ]
  },
  {
   "cell_type": "code",
   "execution_count": 186,
   "id": "761c4742-9511-4760-b8a8-9ed5166cc63f",
   "metadata": {},
   "outputs": [
    {
     "name": "stdout",
     "output_type": "stream",
     "text": [
      "x=3\tpmf_value=0.0126\n"
     ]
    }
   ],
   "source": [
    "from scipy.stats import poisson\n",
    "def Poi_dist(k,_lambda):\n",
    "    return poisson.pmf(k,_lambda)\n",
    "\n",
    "\n",
    "# usage\n",
    "x=3\n",
    "lambda_=0.5\n",
    "pmf=Poi_dist(x,lambda_)\n",
    "print(f\"x={x}\\tpmf_value={pmf:.4f}\")"
   ]
  },
  {
   "cell_type": "markdown",
   "id": "52e3ee31-0f05-4d1c-ae84-c671d870156f",
   "metadata": {},
   "source": [
    "__ __ \n",
    "__11. A company wants to test if a new website layout leads to a higher conversion rate (percentage of visitors\n",
    "who make a purchase). They collect data from the old and new layouts to compare.\n",
    "To generate the data use the following command:\n",
    "sspython\n",
    "import numpy as np\n",
    "\n",
    "#-50 purchases out of 1000 visitors\n",
    "\n",
    "old _ layout = np.array([l] * 50 + [O] * 950)\n",
    "\n",
    "#-70 purchases out of 1000 visitors\n",
    "\n",
    "new _ layout = np.array([l] * 70 + [O] * 930)\n",
    "\n",
    "Apply z-test to find which layout is successful.__"
   ]
  },
  {
   "cell_type": "code",
   "execution_count": 191,
   "id": "b3dd1a70-fb3a-4c58-93e9-b9550ce96dd9",
   "metadata": {},
   "outputs": [
    {
     "name": "stdout",
     "output_type": "stream",
     "text": [
      "Conversion rate for old layout: 0.05\n",
      "Conversion rate for new layout: 0.07\n",
      "Z-statistic: -1.883108942886774\n",
      "P-value: 0.9701571972337869\n",
      "Fail to reject the null hypothesis. There is no sufficient evidence that the new layout leads to a higher conversion rate.\n"
     ]
    }
   ],
   "source": [
    "\n",
    "import numpy as np\n",
    "from statsmodels.stats.proportion import proportions_ztest\n",
    "\n",
    "# Old layout data\n",
    "old_layout = np.array([1] * 50 + [0] * 950)  # 1 represents purchase, 0 represents no purchase\n",
    "\n",
    "# New layout data\n",
    "new_layout = np.array([1] * 70 + [0] * 930)\n",
    "\n",
    "# Calculate conversion rates\n",
    "conversion_rate_old = np.sum(old_layout) / len(old_layout)\n",
    "conversion_rate_new = np.sum(new_layout) / len(new_layout)\n",
    "\n",
    "print(f\"Conversion rate for old layout: {conversion_rate_old}\")\n",
    "print(f\"Conversion rate for new layout: {conversion_rate_new}\")\n",
    "\n",
    "# Number of successes (purchases) in each group\n",
    "successes = np.array([np.sum(old_layout), np.sum(new_layout)])\n",
    "\n",
    "# Number of observations (visitors) in each group\n",
    "nobs = np.array([len(old_layout), len(new_layout)])\n",
    "\n",
    "# Perform z-test for proportions\n",
    "z_stat, p_value = proportions_ztest(successes, nobs, alternative='larger')\n",
    "\n",
    "print(f\"Z-statistic: {z_stat}\")\n",
    "print(f\"P-value: {p_value}\")\n",
    "\n",
    "alpha = 0.05\n",
    "if p_value < alpha:\n",
    "    print(\"Reject the null hypothesis. The new layout leads to a significantly higher conversion rate.\")\n",
    "else:\n",
    "    print(\"Fail to reject the null hypothesis. There is no sufficient evidence that the new layout leads to a higher conversion rate.\")\n"
   ]
  },
  {
   "cell_type": "markdown",
   "id": "22c42b15-9158-46fe-9b46-61237572a7cb",
   "metadata": {},
   "source": [
    "__ __\n",
    "12. A tutoring service claims that its program improves students' exam scores. A sample of students who\n",
    "participated in the program was taken, and their scores before and after the program were recorded.\n",
    "Use the below code to generate samples of respective arrays of marks:\n",
    "\"python\n",
    "\n",
    "before_program = 80, 85, 70, 90, 78, 92, 88, 82, 87])\n",
    "\n",
    "after_program = 85, 90, 80, 92, 80, 95, 90, 85, 88])\n",
    "\n",
    "Use z-test to find if the claims made by tutor are true or false."
   ]
  },
  {
   "cell_type": "code",
   "execution_count": 208,
   "id": "a0536654-5830-4d65-a74e-f52847af6f97",
   "metadata": {},
   "outputs": [
    {
     "name": "stdout",
     "output_type": "stream",
     "text": [
      "z-stats : 4.016632088371217\n",
      "P-value : 2.951789024794004e-05\n",
      "______________________________________\n",
      "reject the null hypothisis\n"
     ]
    }
   ],
   "source": [
    "from statsmodels.stats.weightstats import ztest\n",
    "before_program = np.array([80, 85, 70, 90, 78, 92, 88, 82, 87])\n",
    "after_program = np.array([85, 90, 80, 92, 80, 95, 90, 85, 88])\n",
    "\n",
    "# Step 1: Calculate the differences\n",
    "differences = after_program - before_program\n",
    "z_stats,p_value=ztest(differences,value=0,alternative='larger')\n",
    "print(f\"z-stats : {z_stats}\")\n",
    "print(f\"P-value : {p_value}\")\n",
    "print(\"______________________________________\")\n",
    "\n",
    "alpha=0.05\n",
    "if p_value < 0.05:\n",
    "    print(\"reject the null hypothisis\")\n",
    "\n",
    "else:\n",
    "    print(\"fail to reject the null  hypothisis\")"
   ]
  },
  {
   "cell_type": "markdown",
   "id": "b69d3df2-1534-4670-b433-82cbae234f28",
   "metadata": {},
   "source": [
    "__ __\n",
    "__13. A pharmaceutical company wants to determine if a new drug is effective in reducing blood pressure. They\n",
    "conduct a study and record blood pressure measurements before and after administering the drug.__\n",
    "\n",
    "Use the below code to generate samples of respective arrays of blood pressure:\n",
    "\"python\"\n",
    "\n",
    "before_drug= 150, 140, 135, 155, 160, 152, 148, 130, 138])\n",
    "\n",
    "\n",
    "after _ drug= 140, 132, 128, 145, 148, 138, 136, 125, 1301)\n",
    "\n",
    "\n",
    "Implement z-test to find if the drug really works or not."
   ]
  },
  {
   "cell_type": "code",
   "execution_count": 18,
   "id": "59498da4-48b6-4baa-b772-29a86c806d6c",
   "metadata": {},
   "outputs": [
    {
     "name": "stdout",
     "output_type": "stream",
     "text": [
      "z-stats : -0.9251525987764796\n",
      "p-value : 0.3548865360808713\n",
      " fail to reject the null hypothisis\n"
     ]
    }
   ],
   "source": [
    "before_drug= np.array([150, 140, 135, 155, 160, 152, 148, 130, 138])\n",
    "\n",
    "after_drug= np.array([140, 132, 128, 145, 148, 138, 136, 125, 1301])\n",
    "\n",
    "differences = before_drug - after_drug\n",
    "\n",
    "zstats,pvalue=ztest(differences)\n",
    "print(f\"z-stats : {zstats}\")\n",
    "print(f\"p-value : {pvalue}\")\n",
    "\n",
    "alpha=0.05\n",
    "if pvalue < alpha:\n",
    "    print(\"reject null hypothisis\")\n",
    "\n",
    "else :\n",
    "    print(\" fail to reject the null hypothisis\")"
   ]
  },
  {
   "cell_type": "markdown",
   "id": "9ef5c194-3b4f-401a-9a23-16eeaa43b556",
   "metadata": {},
   "source": [
    "__ __\n",
    "14. A customer service department claims that their average response time is less than 5 minutes. A sample\n",
    "of recent customer interactions was taken, and the response times were recorded.\n",
    "Implement the below code to generate the array of response time:\n",
    "\n",
    "\"python\n",
    "\n",
    "response_times = np.array([4.3, 3.8, 5.1, 4.9, 4.7, 4.2, 5.2, 4.5, 4.6, 4.4])\n",
    "\n",
    "Implement z-test to find the claims made by customer service department are tru or false."
   ]
  },
  {
   "cell_type": "code",
   "execution_count": 22,
   "id": "90994299-4417-4bed-83fe-3275c55e8fcd",
   "metadata": {},
   "outputs": [
    {
     "name": "stdout",
     "output_type": "stream",
     "text": [
      "p-value is :-3.1844572260429627\n",
      "z-stats is :0.0007251287113068958\n",
      "reject the null hypothisis\n"
     ]
    }
   ],
   "source": [
    "population_mean=5\n",
    "response_times = np.array([4.3, 3.8, 5.1, 4.9, 4.7, 4.2, 5.2, 4.5, 4.6, 4.4])\n",
    "pvalue,zstats=ztest(response_times,value=population_mean,alternative='smaller')\n",
    "print(f\"p-value is :{pvalue}\")\n",
    "print(f\"z-stats is :{zstats}\")\n",
    "alpha=0.05\n",
    "if pvalue <alpha:\n",
    "    print(\"reject the null hypothisis\")\n",
    "\n",
    "else :\n",
    "    print(\"fail, to reject null hypythisis\")"
   ]
  },
  {
   "cell_type": "markdown",
   "id": "3af00b86-9ade-440c-b9e2-f27751dac8a7",
   "metadata": {},
   "source": [
    "__ __\n",
    "__15. A company is testing two different website layouts to see which one leads to higher click-through rates.\n",
    "Write a Python function to perform an A/B test analysis, including calculating the t-statistic, degrees of\n",
    "freedom, and p-value.__\n",
    "\n",
    "Use the following data:\n",
    "\"python\n",
    "\n",
    "layout_a_clicks= [28, 32, 33, 29, 31, 34, 30, 35, 36, 37]\n",
    "\n",
    "layout_b_clicks = [40, 41, 38, 42, 39, 44, 43, 41, 45, 47]"
   ]
  },
  {
   "cell_type": "code",
   "execution_count": 36,
   "id": "9c642d0d-14ba-4bd7-aa6f-2844efeaabf1",
   "metadata": {},
   "outputs": [
    {
     "name": "stdout",
     "output_type": "stream",
     "text": [
      "T-statistic: -11.051825964195109\n",
      "Degrees of freedom: 9\n",
      "P-value: 1.5473476623422819e-06\n",
      "Reject the null hypothisis\n"
     ]
    }
   ],
   "source": [
    "import scipy\n",
    "## for paired test \n",
    "def ttest(layout1,layout2):\n",
    " \n",
    "    \n",
    "    t_stat,pvalue=scipy.stats.ttest_rel(layout1,layout2)\n",
    "    degrees_of_freedom=len(layout_a_clicks)-1\n",
    "    \n",
    "      # Print the results\n",
    "    print(f\"T-statistic: {t_stat}\")\n",
    "    print(f\"Degrees of freedom: {degrees_of_freedom}\")\n",
    "    print(f\"P-value: {pvalue}\")\n",
    "\n",
    "    alpha =0.05\n",
    "    if pvalue<alpha:\n",
    "        print(\"Reject the null hypothisis\")\n",
    "\n",
    "    else:\n",
    "        print(\"Fail to reject the null hypothisis\")\n",
    "\n",
    "\n",
    "layout_a_clicks= [28, 32, 33, 29, 31, 34, 30, 35, 36, 37]\n",
    "    \n",
    "layout_b_clicks = [40, 41, 38, 42, 39, 44, 43, 41, 45, 47]\n",
    "\n",
    "ttest(layout_a_clicks,layout_b_clicks)\n",
    "    \n",
    "    \n",
    "    "
   ]
  },
  {
   "cell_type": "markdown",
   "id": "5469b9dc-9a91-4b01-a0e9-b174eaf371ff",
   "metadata": {},
   "source": [
    "__ __\n",
    "__16. A pharmaceutical company wants to determine if a new drug is more effective than an existing drug in\n",
    "reducing cholesterol levels. Create a program to analyze the clinical trial data and calculate the t-\n",
    "statistic and p-value for the treatment effect.__\n",
    "\n",
    "Use the following data of cholestrol level:\n",
    "\n",
    "\n",
    "existing_drug_level= [180, 182, 175, 185, 178, 176, 172, 184, 179, 1831]\n",
    "\n",
    "new_drug_level= [170, 172, 165, 168, 175, 173, 170, 178, 172, 176]"
   ]
  },
  {
   "cell_type": "code",
   "execution_count": 45,
   "id": "7546aa7f-5b05-4fc7-ad41-89fbb438abcb",
   "metadata": {},
   "outputs": [
    {
     "name": "stdout",
     "output_type": "stream",
     "text": [
      "T-statistic: 1.0429185737940279\n",
      "Degrees of freedom: 9\n",
      "P-value: 0.3107914903003592\n",
      "Fail to reject the null hypothisis\n"
     ]
    }
   ],
   "source": [
    "# two sample t test (with respect to two independent sample)\n",
    "\n",
    "existing_drug_level= [180, 182, 175, 185, 178, 176, 172, 184, 179, 1831]\n",
    "\n",
    "new_drug_level= [170, 172, 165, 168, 175, 173, 170, 178, 172, 176]\n",
    "\n",
    "t_stat,pvalue=scipy.stats.ttest_ind(existing_drug_level,new_drug_level)\n",
    "degrees_of_freedom=len(existing_drug_level)-1\n",
    "print(f\"T-statistic: {t_stat}\")\n",
    "print(f\"Degrees of freedom: {degrees_of_freedom}\")\n",
    "print(f\"P-value: {pvalue}\")\n",
    "\n",
    "alpha =0.05\n",
    "if pvalue<alpha:\n",
    "     print(\"Reject the null hypothisis\")\n",
    "\n",
    "else:\n",
    "    print(\"Fail to reject the null hypothisis\")\n"
   ]
  },
  {
   "cell_type": "markdown",
   "id": "bfd0ce2e-ff2e-49a3-98b2-4fcfa49111c2",
   "metadata": {},
   "source": [
    "__ __\n",
    "__17. A school district introduces an educational intervention program to improve math scores. Write a Python\n",
    "function to analyze pre- and post-intervention test scores, calculating the t-statistic and p-value to\n",
    "determine if the intervention had a significant impact.__\n",
    "Use the following data of test score:\n",
    "\n",
    "Pre_intervention_scores= [80, 85, 90, 75, 88, 82, 92, 78, 85, 87]\n",
    "\n",
    "post _ intervention _ scores = [90, 92, 88, 92, 95, 91, 96, 93, 89, 93]"
   ]
  },
  {
   "cell_type": "code",
   "execution_count": 61,
   "id": "602f1ba2-f7ea-4b10-98ef-d06d2f6bd51e",
   "metadata": {},
   "outputs": [
    {
     "name": "stdout",
     "output_type": "stream",
     "text": [
      "t_stats : -4.42840883965761\n",
      "P value : 0.0016509548165795493\n",
      "degrees of freedom : 9\n",
      "__________________________________\n",
      "Reject the null hypothisis\n"
     ]
    }
   ],
   "source": [
    "## for paired test \n",
    "\n",
    "def Scores_t_test(pre,post):\n",
    "    t_stats,p_value=scipy.stats.ttest_rel(pre,post)\n",
    "    dof=len(pre)-1\n",
    "    alpha=0.05\n",
    "\n",
    "        \n",
    "    print(f\"t_stats : {t_stats}\")\n",
    "    print(f\"P value : {p_value}\")\n",
    "    print(f\"degrees of freedom : {dof}\")\n",
    "    print(\"__________________________________\")\n",
    "\n",
    "    if p_value<alpha:\n",
    "        print(\"Reject the null hypothisis\")\n",
    "    else:\n",
    "        print(\"Fail to reject null hypothsis\")\n",
    "    \n",
    "\n",
    "\n",
    "    \n",
    "    \n",
    "Pre_intervention_scores= [80, 85, 90, 75, 88, 82, 92, 78, 85, 87]\n",
    "\n",
    "post_intervention_scores = [90, 92, 88, 92, 95, 91, 96, 93, 89, 93]\n",
    "\n",
    "Scores_t_test(Pre_intervention_scores,post_intervention_scores)\n"
   ]
  },
  {
   "cell_type": "markdown",
   "id": "9f870081-69fe-43ae-870b-152a15a89ed7",
   "metadata": {},
   "source": [
    "__18. An HR department wants to investigate if there's a gender-based salary gap within the company. Develop\n",
    "a program to analyze salary data, calculate the t-statistic, and determine if there's a statistically\n",
    "significant difference between the average salaries of male and female employees.__\n",
    "\n",
    "Use the below code to generate synthetic data:\n",
    "\n",
    "Generate synthetic salary data for male and female employees\n",
    "\n",
    "np.random.seed(0) # For reproducibility\n",
    "\n",
    "male _ salaries = np.random.normal(loc=50000, scale=10000, size=20)\n",
    "\n",
    "female_salaries = np.random.normal(loc=55000, scale=9000, size=20)"
   ]
  },
  {
   "cell_type": "code",
   "execution_count": 70,
   "id": "e0cee7fa-1937-49f8-90ca-2527180af5da",
   "metadata": {},
   "outputs": [
    {
     "name": "stdout",
     "output_type": "stream",
     "text": [
      "t-stats : 0.061142089696313844\n",
      "PValue : 0.9515826849267927\n",
      "Fail to reject the null hypothsis\n"
     ]
    }
   ],
   "source": [
    "# Generate synthetic salary data for male and female employees\n",
    "\n",
    "np.random.seed(0) # For reproducibility\n",
    "\n",
    "male_salaries = np.random.normal(loc=50000, scale=10000, size=20)\n",
    "\n",
    "female_salaries = np.random.normal(loc=55000, scale=9000, size=20)\n",
    "\n",
    "male_mean=np.mean(male_salaries)\n",
    "male_std=np.std(male_salaries,ddof=1)  ##  ddof=1 For sample standard daviation \n",
    "female_mean=np.mean(female_salaries)\n",
    "female_std=np.std(female_salaries,ddof=1)\n",
    "\n",
    "\n",
    "# Perform two-sample t-test\n",
    "t_test,P_val=scipy.stats.ttest_ind(male_salaries,female_salaries,equal_var=False)\n",
    "alpha=0.05\n",
    "print(f\"t-stats : {t_test}\")\n",
    "print(f\"PValue : {P_val}\")\n",
    "if P_val<alpha:\n",
    "    print(\"Reject null hypothisis\")\n",
    "else:\n",
    "    print(\"Fail to reject the null hypothsis\")\n",
    "    \n",
    "    \n"
   ]
  },
  {
   "cell_type": "markdown",
   "id": "9ce13ae1-00c7-4552-80c4-4ea791fda23b",
   "metadata": {},
   "source": [
    "__ __\n",
    "__19. A manufacturer produces two different versions of a product and wants to compare their quality scores.\n",
    "Create a Python function to analyze quality assessment data, calculate the t-statistic, and decide\n",
    "whether there's a significant difference in quality between the two versions.__\n",
    "\n",
    "Use the following data:\n",
    "\n",
    "\n",
    "versionl_scores=[85, 88, 82, 89, 87, 84, 90, 88, 85, 86, 91, 83, 87, 84, 89, 86, 84, 88, 85, 86, 89, 90, 87, 88, 85]\n",
    "\n",
    "\n",
    "version2_scores= [80, 78, 83, 81, 79, 82, 76, 80, 78, 81, 77, 82, 80, 79, 82, 79, 80, 81, 79, 82, 79, 78, 80, 81, 82]\n"
   ]
  },
  {
   "cell_type": "code",
   "execution_count": 80,
   "id": "ea45204d-7d66-4751-8766-aa98d38a1845",
   "metadata": {},
   "outputs": [
    {
     "name": "stdout",
     "output_type": "stream",
     "text": [
      "t-stats : 11.325830417646698\n",
      "PValue : 3.6824250702873965e-15\n",
      "_____________________________\n",
      "Reject null hypothisis\n"
     ]
    }
   ],
   "source": [
    "\n",
    "def manufacture_varsions(v1,v2):\n",
    "    # perform two smaple t-test\n",
    "    t_test,p_val=scipy.stats.ttest_ind(v1,v2)\n",
    "\n",
    "    alpha=0.05\n",
    "    print(f\"t-stats : {t_test}\")\n",
    "    print(f\"PValue : {p_val}\")\n",
    "    print(\"_____________________________\")\n",
    "    if p_val<alpha:\n",
    "        print(\"Reject null hypothisis\")\n",
    "    else:\n",
    "        print(\"Fail to reject the null hypothsis\")\n",
    "\n",
    "versionl_scores=[85, 88, 82, 89, 87, 84, 90, 88, 85, 86, 91, 83, 87, 84, 89, 86, 84, 88, 85, 86, 89, 90, 87, 88, 85]\n",
    "\n",
    "version2_scores= [80, 78, 83, 81, 79, 82, 76, 80, 78, 81, 77, 82, 80, 79, 82, 79, 80, 81, 79, 82, 79, 78, 80, 81, 82]\n",
    "\n",
    "manufacture_varsions(versionl_scores,version2_scores)\n",
    "    \n",
    "    "
   ]
  },
  {
   "cell_type": "markdown",
   "id": "8bd2afbc-23e9-4c10-a92f-77bcd68ce9a9",
   "metadata": {},
   "source": [
    "__20. A restaurant chain collects customer satisfaction scores for two different branches. Write a program to\n",
    "analyze the scores, calculate the t-statistic, and determine if there's a statistically significant difference in\n",
    "customer satisfaction between the branches.__\n",
    "\n",
    "\n",
    "\n",
    "Use the below data of scores:\n",
    "\n",
    "branch_a_scores = [4, 5, 3, 4, 5, 4, 5, 3, 4, 4, 5, 4, 4, 3, 4, 5, 5, 4, 3, 4, 5, 4, 3, 5, 4, 4, 5, 3, 4, 5, 4]\n",
    "\n",
    "\n",
    "branch_b_scores = [3, 4, 2, 3, 4, 3, 4, 2, 3, 3, 4, 3, 3, 2, 3, 4, 4, 3, 2, 3, 4, 3, 2, 4, 3, 3, 4, 2, 3, 4, 3]"
   ]
  },
  {
   "cell_type": "code",
   "execution_count": 84,
   "id": "a2d9ccc3-dec1-4bb8-bf01-1172bf94a24c",
   "metadata": {},
   "outputs": [
    {
     "name": "stdout",
     "output_type": "stream",
     "text": [
      "t-stats : 5.480077554195743\n",
      "PValue : 8.895290509945657e-07\n",
      "_____________________________\n",
      "Reject null hypothisis\n"
     ]
    }
   ],
   "source": [
    "def satisfaction_customers_analysis(r1,r2):\n",
    "    # perform two smaple t-test\n",
    "    t_test,p_val=scipy.stats.ttest_ind(r1,r2)\n",
    "\n",
    "    alpha=0.05\n",
    "    print(f\"t-stats : {t_test}\")\n",
    "    print(f\"PValue : {p_val}\")\n",
    "    print(\"_____________________________\")\n",
    "    if p_val<alpha:\n",
    "        print(\"Reject null hypothisis\")\n",
    "    else:\n",
    "        print(\"Fail to reject the null hypothsis\")\n",
    "\n",
    "branch_a_scores = [4, 5, 3, 4, 5, 4, 5, 3, 4, 4, 5, 4, 4, 3, 4, 5, 5, 4, 3, 4, 5, 4, 3, 5, 4, 4, 5, 3, 4, 5, 4]\n",
    "branch_b_scores = [3, 4, 2, 3, 4, 3, 4, 2, 3, 3, 4, 3, 3, 2, 3, 4, 4, 3, 2, 3, 4, 3, 2, 4, 3, 3, 4, 2, 3, 4, 3]\n",
    "satisfaction_customers_analysis(branch_a_scores,branch_b_scores)\n"
   ]
  },
  {
   "cell_type": "markdown",
   "id": "e37e19da-b534-4af0-870a-330477d7d36b",
   "metadata": {},
   "source": [
    "__ __ \n",
    "\n",
    "__21. A political analyst wants to determine if there is a significant association between age groups and voter\n",
    "preferences (Candidate A or Candidate B). They collect data from a sample of 500 voters and classify\n",
    "them into different age groups and candidate preferences. Perform a Chi-Square test to determine if\n",
    "there is a significant association between age groups and voter preferences.__\n",
    "\n",
    "\n",
    "Use the below code to generate data:\n",
    "\n",
    "np.random.seed@)\n",
    "\n",
    "age _ groups = np.random.choice(['18-30', '31-50', '51+', '51+1], size=30)\n",
    "\n",
    "voter _ preferences = np.random.choice([Candidate A', Candidate size=30)_"
   ]
  },
  {
   "cell_type": "code",
   "execution_count": 114,
   "id": "d1f755b1-7150-409f-8b53-d02bf9681906",
   "metadata": {},
   "outputs": [
    {
     "data": {
      "text/html": [
       "<div>\n",
       "<style scoped>\n",
       "    .dataframe tbody tr th:only-of-type {\n",
       "        vertical-align: middle;\n",
       "    }\n",
       "\n",
       "    .dataframe tbody tr th {\n",
       "        vertical-align: top;\n",
       "    }\n",
       "\n",
       "    .dataframe thead th {\n",
       "        text-align: right;\n",
       "    }\n",
       "</style>\n",
       "<table border=\"1\" class=\"dataframe\">\n",
       "  <thead>\n",
       "    <tr style=\"text-align: right;\">\n",
       "      <th>voter prefrences</th>\n",
       "      <th>Candidate A</th>\n",
       "      <th>Candidate B</th>\n",
       "    </tr>\n",
       "    <tr>\n",
       "      <th>Age group</th>\n",
       "      <th></th>\n",
       "      <th></th>\n",
       "    </tr>\n",
       "  </thead>\n",
       "  <tbody>\n",
       "    <tr>\n",
       "      <th>18-30</th>\n",
       "      <td>2</td>\n",
       "      <td>6</td>\n",
       "    </tr>\n",
       "    <tr>\n",
       "      <th>31-50</th>\n",
       "      <td>4</td>\n",
       "      <td>4</td>\n",
       "    </tr>\n",
       "    <tr>\n",
       "      <th>51+</th>\n",
       "      <td>2</td>\n",
       "      <td>3</td>\n",
       "    </tr>\n",
       "    <tr>\n",
       "      <th>51+1</th>\n",
       "      <td>3</td>\n",
       "      <td>6</td>\n",
       "    </tr>\n",
       "  </tbody>\n",
       "</table>\n",
       "</div>"
      ],
      "text/plain": [
       "voter prefrences  Candidate A  Candidate B\n",
       "Age group                                 \n",
       "18-30                       2            6\n",
       "31-50                       4            4\n",
       "51+                         2            3\n",
       "51+1                        3            6"
      ]
     },
     "execution_count": 114,
     "metadata": {},
     "output_type": "execute_result"
    }
   ],
   "source": [
    "np.random.seed(0)\n",
    "\n",
    "age_groups = np.random.choice(['18-30', '31-50', '51+ ', '51+1'] , size=30)\n",
    "\n",
    "voter_preferences = np.random.choice(['Candidate A','Candidate B'],size=30)\n",
    "data=pd.DataFrame({'Age group':age_groups , 'voter prefrences':voter_preferences})\n",
    "\n",
    "# pd.crosstab(data['Age group'],data['voter prefrences'])\n",
    "data_table=pd.crosstab(data['Age group'], data['voter prefrences'])\n",
    "data_table\n"
   ]
  },
  {
   "cell_type": "code",
   "execution_count": 155,
   "id": "7fbdde6c-d46b-477a-9302-60f333cc8116",
   "metadata": {},
   "outputs": [],
   "source": [
    "from scipy.stats import chi2_contingency\n",
    "Observed_val=data_table.values\n",
    "stats_test,Pvalue,dof,expected_values=stat.chi2_contingency(Observed_val)\n"
   ]
  },
  {
   "cell_type": "code",
   "execution_count": null,
   "id": "da3cd79a-7411-4f02-a553-9b2d2d20d7ee",
   "metadata": {},
   "outputs": [],
   "source": []
  },
  {
   "cell_type": "code",
   "execution_count": 156,
   "id": "77f02b4e-ac22-450d-84ea-c32cd13e8057",
   "metadata": {},
   "outputs": [],
   "source": [
    "# chi_test =sum([(o-e)**2 /2 for o,e in zip(Observed_val,expected_values)])\n",
    "# chi_stats=chi_test[0] + chi_test[1]\n",
    "# chi_stats"
   ]
  },
  {
   "cell_type": "code",
   "execution_count": 162,
   "id": "fbda2e9c-caa4-49a2-b9d7-d9fdd9f4ef32",
   "metadata": {},
   "outputs": [
    {
     "name": "stdout",
     "output_type": "stream",
     "text": [
      "Contingency Table:\n",
      "voter prefrences  Candidate A  Candidate B\n",
      "Age group                                 \n",
      "18-30                       2            6\n",
      "31-50                       4            4\n",
      "51+                         2            3\n",
      "51+1                        3            6\n",
      "\n",
      "Chi-Square Statistic: 1.1483253588516746\n",
      "P-value: 0.7654227854152553\n",
      "Degrees of Freedom: 3\n",
      "Expected Frequencies:\n",
      "[[2.93333333 5.06666667]\n",
      " [2.93333333 5.06666667]\n",
      " [1.83333333 3.16666667]\n",
      " [3.3        5.7       ]]\n",
      "Critical Value: 7.814727903251179\n",
      "______________________________\n",
      "fail to reject null hypothisis no relationship\n"
     ]
    }
   ],
   "source": [
    "from scipy.stats import chi2\n",
    "alpha=0.05\n",
    "# Output the results\n",
    "print(\"Contingency Table:\")\n",
    "print(data_table)\n",
    "print(f\"\\nChi-Square Statistic: {stats_test}\")\n",
    "print(f\"P-value: {Pvalue}\")\n",
    "print(f\"Degrees of Freedom: {dof}\")\n",
    "print(\"Expected Frequencies:\")\n",
    "print(expected_values)\n",
    "print(f\"Critical Value: {ChiSquare_critical}\")\n",
    "print(\"______________________________\")\n",
    "ChiSquare_critical=chi2.ppf(1-alpha,df=dof)\n",
    "if stats_test>= ChiSquare_critical:\n",
    "    print(\"reject null hypothisis  >> relationship between to categroical variable \")\n",
    "else:\n",
    "    print(\"fail to reject null hypothisis no relationship\")"
   ]
  },
  {
   "cell_type": "markdown",
   "id": "862c0274-3015-4713-a767-f175bc2dad33",
   "metadata": {},
   "source": [
    "__ __ \n",
    "__22. A company conducted a customer satisfaction survey to determine if there is a significant relationship\n",
    "between product satisfaction levels (Satisfied, Neutral, Dissatisfied) and the region where customers are\n",
    "located (East, West, North, South). The survey data is summarized in a contingency table. Conduct a Chi-\n",
    "Square test to determine if there is a significant relationship between product satisfaction levels and\n",
    "customer regions__\n",
    "Sample data:\n",
    "\n",
    "\n",
    "#Sample data: Product satisfaction levels (rows) vs. Customer regions (columns)\n",
    "\n",
    "\n",
    "data = 30, 40, 20], [30, 40, 30, 50], [20, 30, 40, 30]])"
   ]
  },
  {
   "cell_type": "code",
   "execution_count": 171,
   "id": "1b6c6d0a-3158-4c0d-8db8-8eb1807db270",
   "metadata": {},
   "outputs": [
    {
     "name": "stdout",
     "output_type": "stream",
     "text": [
      "Reject null hypothesis: There is a significant relationship between product satisfaction levels and customer regions.\n"
     ]
    }
   ],
   "source": [
    "import numpy as np\n",
    "from scipy.stats import chi2_contingency\n",
    "\n",
    "# Sample data: Product satisfaction levels (rows) vs. Customer regions (columns)\n",
    "data = np.array([[50, 30, 40, 20],   # Satisfied, Neutral, Dissatisfied (rows)\n",
    "                 [30, 40, 30, 50],   # East, West, North, South (columns)\n",
    "                 [20, 30, 40, 30]])  # Frequencies\n",
    "data=data.transpose()\n",
    "data\n",
    "chi_stat, p, dof, expected=chi2_contingency(data)\n",
    "alpha=0.05\n",
    "if p< alpha :\n",
    "    print(\"Reject null hypothesis: There is a significant relationship between product satisfaction levels and customer regions.\")\n",
    "else:\n",
    "    print(\"Fail to reject null hypothesis: There is no significant relationship between product satisfaction levels and customer regions.\")"
   ]
  },
  {
   "cell_type": "markdown",
   "id": "dd2e3361-6deb-4bbf-9287-e8d00d1ca3b7",
   "metadata": {},
   "source": [
    "__ __ \n",
    "__23. A company implemented an employee training program to improve job performance (Effective, Neutral,\n",
    "Ineffective). After the training, they collected data from a sample of employees and classified them based\n",
    "on their job performance before and after the training. Perform a Chi-Square test to determine if there is a\n",
    "significant difference between job performance levels before and after the training.__\n",
    "Sample data:\n",
    "Sample data: Job performance levels before (rows) and after (columns) training\n",
    "\n",
    "\n",
    "data = 30, 201, [30, 40, 30], [20, 30, 40] l)"
   ]
  },
  {
   "cell_type": "code",
   "execution_count": 173,
   "id": "48a21fb5-b347-47e0-98be-b6664274b27f",
   "metadata": {},
   "outputs": [
    {
     "name": "stdout",
     "output_type": "stream",
     "text": [
      "Chi-Square Statistic: 18.51851851851852\n",
      "p-value: 0.000976946546710113\n",
      "Degrees of Freedom: 4\n",
      "Expected Frequencies Table:\n",
      "[[19.2 21.6 19.2]\n",
      " [32.  36.  32. ]\n",
      " [28.8 32.4 28.8]]\n",
      "\n",
      "Reject the null hypothesis. There is a significant difference between job performance levels before and after training.\n"
     ]
    }
   ],
   "source": [
    "\n",
    "\n",
    "from scipy.stats import chi2_contingency\n",
    "\n",
    "# Sample data: Job performance levels before (rows) and after (columns) training\n",
    "observed = np.array([[30, 20, 10],\n",
    "                     [30, 40, 30],\n",
    "                     [20, 30, 40]])\n",
    "\n",
    "# Perform Chi-Square test\n",
    "chi2, p, dof, expected = chi2_contingency(observed)\n",
    "\n",
    "# Output results\n",
    "print(\"Chi-Square Statistic:\", chi2)\n",
    "print(\"p-value:\", p)\n",
    "print(\"Degrees of Freedom:\", dof)\n",
    "print(\"Expected Frequencies Table:\")\n",
    "print(expected)\n",
    "\n",
    "# Set significance level\n",
    "alpha = 0.05\n",
    "\n",
    "# Determine whether to reject null hypothesis\n",
    "if p < alpha:\n",
    "    print(\"\\nReject the null hypothesis. There is a significant difference between job performance levels before and after training.\")\n",
    "else:\n",
    "    print(\"\\nFail to reject the null hypothesis. There is no significant difference between job performance levels before and after training.\")\n"
   ]
  },
  {
   "cell_type": "markdown",
   "id": "d456ab75-a57c-4d46-b108-5124d17ef68d",
   "metadata": {},
   "source": [
    "__24. A company produces three different versions of a product: Standard, Premium, and Deluxe. The\n",
    "company wants to determine if there is a significant difference in customer satisfaction scores among the\n",
    "three product versions. They conducted a survey and collected customer satisfaction scores for each\n",
    "version from a random sample of customers. Perform an ANOVA test to determine if there is a significant\n",
    "difference in customer satisfaction scores.__\n",
    "Use the following data:\n",
    "\n",
    " Sample data: Customer satisfaction scores for each product version\n",
    "\n",
    "\n",
    "standard_scores = [80, 85, 90, 78, 88, 82, 92, 78, 85, 87]\n",
    "\n",
    "\n",
    "premium_scores = [90, 92, 88, 92, 95, 91, 96, 93, 89, 93]\n",
    "\n",
    "\n",
    "deluxe_scores = [95, 98, 92, 97, 96, 94, 98, 97, 92, 99]"
   ]
  },
  {
   "cell_type": "code",
   "execution_count": 174,
   "id": "dd96fa8d-8dd2-4e71-8bf9-02cb865a356f",
   "metadata": {},
   "outputs": [
    {
     "name": "stdout",
     "output_type": "stream",
     "text": [
      "F-statistic: 27.03556231003039\n",
      "p-value: 3.578632885734896e-07\n",
      "Reject null hypothesis. There is a significant difference in customer satisfaction scores among the product versions.\n"
     ]
    }
   ],
   "source": [
    "import pandas as pd\n",
    "from scipy import stats\n",
    "\n",
    "# Sample data\n",
    "standard_scores = [80, 85, 90, 78, 88, 82, 92, 78, 85, 87]\n",
    "premium_scores = [90, 92, 88, 92, 95, 91, 96, 93, 89, 93]\n",
    "deluxe_scores = [95, 98, 92, 97, 96, 94, 98, 97, 92, 99]\n",
    "\n",
    "# Create a pandas dataframe\n",
    "data = pd.DataFrame({\n",
    "    \"Product\": [\"Standard\"] * len(standard_scores) + [\"Premium\"] * len(premium_scores) + [\"Deluxe\"] * len(deluxe_scores),\n",
    "    \"Score\": standard_scores + premium_scores + deluxe_scores\n",
    "})\n",
    "\n",
    "# Perform ANOVA test\n",
    "fvalue, pval = stats.f_oneway(standard_scores, premium_scores, deluxe_scores)\n",
    "\n",
    "# Print the results\n",
    "print(\"F-statistic:\", fvalue)\n",
    "print(\"p-value:\", pval)\n",
    "\n",
    "# Interpretation\n",
    "if pval < 0.05:\n",
    "    print(\"Reject null hypothesis. There is a significant difference in customer satisfaction scores among the product versions.\")\n",
    "else:\n",
    "    print(\"Fail to reject null hypothesis. There is no significant difference in customer satisfaction scores among the product versions.\")\n"
   ]
  },
  {
   "cell_type": "code",
   "execution_count": null,
   "id": "13553088-7f15-46dd-aa6f-05387b3ec7a3",
   "metadata": {},
   "outputs": [],
   "source": []
  }
 ],
 "metadata": {
  "kernelspec": {
   "display_name": "Python 3 (ipykernel)",
   "language": "python",
   "name": "python3"
  },
  "language_info": {
   "codemirror_mode": {
    "name": "ipython",
    "version": 3
   },
   "file_extension": ".py",
   "mimetype": "text/x-python",
   "name": "python",
   "nbconvert_exporter": "python",
   "pygments_lexer": "ipython3",
   "version": "3.12.2"
  }
 },
 "nbformat": 4,
 "nbformat_minor": 5
}
